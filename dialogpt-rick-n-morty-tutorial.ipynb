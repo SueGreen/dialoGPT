{
 "metadata": {
  "kernelspec": {
   "language": "python",
   "display_name": "Python 3",
   "name": "python3"
  },
  "language_info": {
   "pygments_lexer": "ipython3",
   "nbconvert_exporter": "python",
   "version": "3.6.4",
   "file_extension": ".py",
   "codemirror_mode": {
    "name": "ipython",
    "version": 3
   },
   "name": "python",
   "mimetype": "text/x-python"
  }
 },
 "nbformat_minor": 4,
 "nbformat": 4,
 "cells": [
  {
   "cell_type": "markdown",
   "source": [
    "#Make your own Rick Sanchez (bot) with Transformers and DialoGPT fine-tuning\n",
    "\n",
    "by [Rostyslav Neskorozhenyi](https://www.linkedin.com/in/slanj)"
   ],
   "metadata": {
    "id": "7KrNfVNueNhR"
   }
  },
  {
   "cell_type": "markdown",
   "source": [
    "I am a big fan of 'Rick and Morty' and NLP (Natural Language Processing). After watching the last episode of a mad scientist's and his grandson's adventures I realized that it's not a coincidence and I have to apply my knowledge in NLP and Machine Learning to create my own Rick (in a form of chat-bot, at least for now).\n",
    "\n",
    "![alt text](https://media.giphy.com/media/ZdBnIqBeVWBYTobH8U/giphy.gif)\n",
    "\n",
    "Image from [Giphy](https://giphy.com/)\n",
    "\n",
    "The path to creating virtual Rick was not easy. I tried many models and approaches but virtual Rick did not want to find a common language with me for a long time. Rick's first response to my greeting was \"I am not your buddy\" (to tell you the truth, in the beginning he knew only this phrase). But I did not give up and with the help of excellent Transformers library and Microsoft's Large-scale Pretrained Response Generation Model (DialoGPT) I managed to talk heart-to-heart with Rick. Here is one of our conversations:\n",
    "\n",
    "**User**:Hey, Rick, make me a time machine <br>\n",
    "**RickBot**: You're a monster! <br>\n",
    "**User**:No, I just want to travel in time <br>\n",
    "**RickBot**: To the past. <br>\n",
    "**User**:yes <br>\n",
    "**RickBot**: No time machine, please. <br>\n",
    "**User**:But I need it <br>\n",
    "**RickBot**: You don't need it, Morty. Just do it. <br>\n",
    "**User**:I want to see antient Greece <br>\n",
    "**RickBot**: Oh, geez. <br>\n",
    "\n",
    "![alt text](https://media.giphy.com/media/WVGSfyhUYBoiGLbZ7N/giphy.gif)\n",
    "\n",
    "Image from [Giphy](https://giphy.com/)"
   ],
   "metadata": {
    "id": "78afhsngLZMw"
   }
  },
  {
   "cell_type": "markdown",
   "source": [
    "## A bit of theory"
   ],
   "metadata": {
    "id": "yGJHOZYOWZHR"
   }
  },
  {
   "cell_type": "markdown",
   "source": [
    "In this article I will tell you how to create a virtual character whose statements will be based on a transcript of my favorite animated science fiction sitcom. You can use characters and sitcoms of your choice. I added code to convert a regular text file with dialogs into a format that the model understands.\n",
    "\n",
    "As I already mentioned, [Transformers](https://huggingface.co/transformers/) library, which contains the latest NLP models (such as [BERT](https://huggingface.co/transformers/model_doc/bert.html), [XLNet](https://huggingface.co/transformers/model_doc/xlnet.html), [GPT-2](https://huggingface.co/transformers/model_doc/gpt2.html)) will help us in our task. You can read more about transformers in a beautifully illustrated [article](http://jalammar.github.io/illustrated-transformer/) by Jay Alammar.\n",
    "\n",
    "![alt text](http://jalammar.github.io/images/t/transformer_resideual_layer_norm_3.png) Image from[ http://jalammar.github.io](http://jalammar.github.io/illustrated-transformer/)\n",
    "\n",
    "Not so long ago, Microsoft’s [DialoGPT](https://huggingface.co/transformers/model_doc/dialogpt.html) was added to the Transformers model collection. DialoGPT is a GPT-2 model, trained on 147M multi-turn dialogue from Reddit discussion thread (you can learn more about GPT-2 [here](http://jalammar.github.io/illustrated-gpt2/)). This model is ideally suited for creating a virtual character for a fascinating conversation and even in the small implementation option it can maintain a coherent dialogue, which we will see now.\n",
    "\n"
   ],
   "metadata": {
    "id": "YBd8PVGNWgfK"
   }
  },
  {
   "cell_type": "markdown",
   "source": [
    "## First dialogue with DialoGPT"
   ],
   "metadata": {
    "id": "4hyTyW7Le2Sb"
   }
  },
  {
   "cell_type": "markdown",
   "source": [
    "We will conduct all our experiments in Google Colab, its resources are enough to train the small DialoGPT model. Firstly, we will connect to Google Drive and install the necessary modules."
   ],
   "metadata": {
    "id": "HEqpXb4ofFGd"
   }
  },
  {
   "cell_type": "code",
   "source": [
    "# from google.colab import drive\n",
    "# drive.mount('/content/drive/')"
   ],
   "metadata": {
    "id": "sgL1yLLS09mP",
    "outputId": "0cc084b1-e18c-418c-f8dc-ee7128e7ec01"
   },
   "execution_count": null,
   "outputs": []
  },
  {
   "cell_type": "code",
   "source": [
    "! pip -q install transformers"
   ],
   "metadata": {
    "id": "onU41i8g1J3M",
    "outputId": "fdcf7071-6946-410c-b9d3-4cad431eb0dc",
    "execution": {
     "iopub.status.busy": "2021-06-13T13:34:58.620272Z",
     "iopub.execute_input": "2021-06-13T13:34:58.620627Z",
     "iopub.status.idle": "2021-06-13T13:35:05.703936Z",
     "shell.execute_reply.started": "2021-06-13T13:34:58.620547Z",
     "shell.execute_reply": "2021-06-13T13:35:05.703010Z"
    },
    "trusted": true
   },
   "execution_count": 1,
   "outputs": []
  },
  {
   "cell_type": "markdown",
   "source": [
    "Let's move to the desired folder in which we will store all our data."
   ],
   "metadata": {
    "id": "d7Y1XcsqgXBQ"
   }
  },
  {
   "cell_type": "code",
   "source": [
    "import os\n",
    "\n",
    "# os.chdir(\"/content/drive/My Drive/Colab Notebooks\")\n",
    "# os.chdir(\"\")"
   ],
   "metadata": {
    "id": "OHNacD0k1HI3",
    "execution": {
     "iopub.status.busy": "2021-06-13T13:35:09.446630Z",
     "iopub.execute_input": "2021-06-13T13:35:09.446987Z",
     "iopub.status.idle": "2021-06-13T13:35:09.451070Z",
     "shell.execute_reply.started": "2021-06-13T13:35:09.446950Z",
     "shell.execute_reply": "2021-06-13T13:35:09.450177Z"
    },
    "trusted": true
   },
   "execution_count": 2,
   "outputs": []
  },
  {
   "cell_type": "markdown",
   "source": [
    "Try to chat with DialoGPT without fine-tuning."
   ],
   "metadata": {
    "id": "zVSTlysV2jaM"
   }
  },
  {
   "cell_type": "code",
   "source": [
    "from transformers import AutoModelWithLMHead, AutoTokenizer\n",
    "import torch\n",
    "\n",
    "tokenizer = AutoTokenizer.from_pretrained(\"microsoft/DialoGPT-small\")\n",
    "model = AutoModelWithLMHead.from_pretrained(\"microsoft/DialoGPT-small\") #AutoModelForCausalLM"
   ],
   "metadata": {
    "id": "w6qrl7_SvPKg",
    "outputId": "3c8575e9-bca2-4a1c-a931-4c46b6954f61",
    "execution": {
     "iopub.status.busy": "2021-06-13T13:35:12.267979Z",
     "iopub.execute_input": "2021-06-13T13:35:12.268514Z",
     "iopub.status.idle": "2021-06-13T13:35:40.944722Z",
     "shell.execute_reply.started": "2021-06-13T13:35:12.268469Z",
     "shell.execute_reply": "2021-06-13T13:35:40.943830Z"
    },
    "trusted": true
   },
   "execution_count": 1,
   "outputs": [
    {
     "data": {
      "text/plain": "Downloading:   0%|          | 0.00/641 [00:00<?, ?B/s]",
      "application/vnd.jupyter.widget-view+json": {
       "version_major": 2,
       "version_minor": 0,
       "model_id": "327c023fd068426e9468e900a95f9891"
      }
     },
     "metadata": {},
     "output_type": "display_data"
    },
    {
     "data": {
      "text/plain": "Downloading:   0%|          | 0.00/1.04M [00:00<?, ?B/s]",
      "application/vnd.jupyter.widget-view+json": {
       "version_major": 2,
       "version_minor": 0,
       "model_id": "af79c039131448b282de74cb3c9f2119"
      }
     },
     "metadata": {},
     "output_type": "display_data"
    },
    {
     "data": {
      "text/plain": "Downloading:   0%|          | 0.00/456k [00:00<?, ?B/s]",
      "application/vnd.jupyter.widget-view+json": {
       "version_major": 2,
       "version_minor": 0,
       "model_id": "56b809913f0c45bcabf330562ee83e44"
      }
     },
     "metadata": {},
     "output_type": "display_data"
    },
    {
     "data": {
      "text/plain": "Downloading:   0%|          | 0.00/26.0 [00:00<?, ?B/s]",
      "application/vnd.jupyter.widget-view+json": {
       "version_major": 2,
       "version_minor": 0,
       "model_id": "96a973161d6b42eaa5011a2cbda30b9a"
      }
     },
     "metadata": {},
     "output_type": "display_data"
    },
    {
     "name": "stderr",
     "output_type": "stream",
     "text": [
      "/home/susan/miniconda3/envs/gpt2_paraphrase/lib/python3.7/site-packages/transformers/models/auto/modeling_auto.py:810: FutureWarning: The class `AutoModelWithLMHead` is deprecated and will be removed in a future version. Please use `AutoModelForCausalLM` for causal language models, `AutoModelForMaskedLM` for masked language models and `AutoModelForSeq2SeqLM` for encoder-decoder models.\n",
      "  FutureWarning,\n"
     ]
    },
    {
     "data": {
      "text/plain": "Downloading:   0%|          | 0.00/351M [00:00<?, ?B/s]",
      "application/vnd.jupyter.widget-view+json": {
       "version_major": 2,
       "version_minor": 0,
       "model_id": "20c7c67923dc4cffb98dc278bf876000"
      }
     },
     "metadata": {},
     "output_type": "display_data"
    }
   ]
  },
  {
   "cell_type": "code",
   "source": [
    "# Let's chat for 5 lines\n",
    "for step in range(5):\n",
    "    # encode the new user input, add the eos_token and return a tensor in Pytorch\n",
    "    new_user_input_ids = tokenizer.encode(input(\">> User:\") + tokenizer.eos_token, return_tensors='pt')\n",
    "\n",
    "    # append the new user input tokens to the chat history\n",
    "    bot_input_ids = torch.cat([chat_history_ids, new_user_input_ids], dim=-1) if step > 0 else new_user_input_ids\n",
    "\n",
    "    # generated a response while limiting the total chat history to 1000 tokens    \n",
    "    chat_history_ids = model.generate(\n",
    "    bot_input_ids, max_length=1000,\n",
    "    pad_token_id=tokenizer.eos_token_id\n",
    "    )\n",
    "\n",
    "    # pretty print last ouput tokens from bot\n",
    "    print(\"DialoGPT: {}\".format(tokenizer.decode(chat_history_ids[:, bot_input_ids.shape[-1]:][0], skip_special_tokens=True)))"
   ],
   "metadata": {
    "id": "CjZaN5ilgd-z",
    "outputId": "fa5f37f3-3aa4-4994-c665-c51e09a2297c",
    "execution": {
     "iopub.status.busy": "2021-06-13T13:35:40.946595Z",
     "iopub.execute_input": "2021-06-13T13:35:40.946958Z",
     "iopub.status.idle": "2021-06-13T13:36:52.427358Z",
     "shell.execute_reply.started": "2021-06-13T13:35:40.946922Z",
     "shell.execute_reply": "2021-06-13T13:36:52.426424Z"
    },
    "trusted": true
   },
   "execution_count": 2,
   "outputs": [
    {
     "name": "stdout",
     "output_type": "stream",
     "text": [
      "DialoGPT: I'm in!\n",
      "DialoGPT: I'm in!\n",
      "DialoGPT: I'm in!\n",
      "DialoGPT: I'm in!\n",
      "DialoGPT: I'm in!\n"
     ]
    }
   ]
  },
  {
   "cell_type": "markdown",
   "source": [
    "**User:**Hi Rick <br> \n",
    "**DialoGPT:** Hi Rick <br>\n",
    "**User:**How are you? <br>\n",
    "**DialoGPT:** I'm good, how are you? <br>\n",
    "**User:**I am fine. Where is Morty? <br>\n",
    "**DialoGPT:** He's in the basement. <br>\n",
    "**User:**Who is Morty? <br>\n",
    "**DialoGPT:** He's a Morty. <br>\n",
    "**User:**Who are you? <br>\n",
    "**DialoGPT:** I am a Morty. <br>"
   ],
   "metadata": {
    "id": "Vbzm0BHOitsa"
   }
  },
  {
   "cell_type": "markdown",
   "source": [
    "![alt text](https://media.giphy.com/media/L3WevKXIKFDaZBvV8Q/giphy.gif)\n",
    "\n",
    "Image from [Giphy](https://giphy.com/)\n",
    "\n",
    "Not bad but not too impressive. We will fix it with fine-tuning."
   ],
   "metadata": {
    "id": "EAy2OBMW6QyD"
   }
  },
  {
   "cell_type": "markdown",
   "source": [
    "## Model initial configuration"
   ],
   "metadata": {
    "id": "IuzSROqxjUKM"
   }
  },
  {
   "cell_type": "markdown",
   "source": [
    "Let's train our own Rick chatbot. For start, we will need basic configuration and a dataset.\n",
    "Configuration and training scripts are mostly based on this [script](https://github.com/huggingface/transformers/blob/master/examples/language-modeling/run_language_modeling.py) from Huggingface and great [tutorial](https://nathancooper.io/i-am-a-nerd/chatbot/deep-learning/gpt2/2020/05/12/chatbot-part-1.html) from Nathan Cooper."
   ],
   "metadata": {
    "id": "TC3qNlfp30aU"
   }
  },
  {
   "cell_type": "code",
   "source": [
    "\"\"\"\n",
    "Fine-tuning the library models for language modeling on a text file (GPT, GPT-2, BERT, RoBERTa).\n",
    "GPT and GPT-2 are fine-tuned using a causal language modeling (CLM) loss while BERT and RoBERTa are fine-tuned\n",
    "using a masked language modeling (MLM) loss.\n",
    "\"\"\"\n",
    "\n",
    "import glob\n",
    "import logging\n",
    "import os\n",
    "import pickle\n",
    "import random\n",
    "import re\n",
    "import shutil\n",
    "from typing import Dict, List, Tuple\n",
    "\n",
    "import pandas as pd\n",
    "import numpy as np\n",
    "import torch\n",
    "\n",
    "from sklearn.model_selection import train_test_split\n",
    "\n",
    "from torch.nn.utils.rnn import pad_sequence\n",
    "from torch.utils.data import DataLoader, Dataset, RandomSampler, SequentialSampler\n",
    "from torch.utils.data.distributed import DistributedSampler\n",
    "from tqdm.notebook import tqdm, trange\n",
    "\n",
    "from pathlib import Path\n",
    "\n",
    "from transformers import (\n",
    "    MODEL_WITH_LM_HEAD_MAPPING,\n",
    "    WEIGHTS_NAME,\n",
    "    AdamW,\n",
    "    AutoConfig,\n",
    "    AutoModelWithLMHead,\n",
    "    AutoTokenizer,\n",
    "    PreTrainedModel,\n",
    "    PreTrainedTokenizer,\n",
    "    get_linear_schedule_with_warmup,\n",
    ")\n",
    "\n",
    "\n",
    "try:\n",
    "    from torch.utils.tensorboard import SummaryWriter\n",
    "except ImportError:\n",
    "    from tensorboardX import SummaryWriter\n",
    "\n",
    "# Configs\n",
    "logger = logging.getLogger(__name__)\n",
    "\n",
    "MODEL_CONFIG_CLASSES = list(MODEL_WITH_LM_HEAD_MAPPING.keys())\n",
    "MODEL_TYPES = tuple(conf.model_type for conf in MODEL_CONFIG_CLASSES)"
   ],
   "metadata": {
    "id": "g91QzdqU2haO",
    "execution": {
     "iopub.status.busy": "2021-06-13T13:37:03.819171Z",
     "iopub.execute_input": "2021-06-13T13:37:03.819487Z",
     "iopub.status.idle": "2021-06-13T13:37:04.508074Z",
     "shell.execute_reply.started": "2021-06-13T13:37:03.819458Z",
     "shell.execute_reply": "2021-06-13T13:37:04.507313Z"
    },
    "trusted": true
   },
   "execution_count": 4,
   "outputs": []
  },
  {
   "cell_type": "code",
   "source": [
    "# Args to allow for easy convertion of python script to notebook\n",
    "class Args():\n",
    "    def __init__(self):\n",
    "        self.output_dir = 'output-small'\n",
    "        self.model_type = 'gpt2'\n",
    "        self.model_name_or_path = 'microsoft/DialoGPT-small'\n",
    "        self.config_name = 'microsoft/DialoGPT-small'\n",
    "        self.tokenizer_name = 'microsoft/DialoGPT-small'\n",
    "        self.cache_dir = 'cached'\n",
    "        self.block_size = 512\n",
    "        self.do_train = True\n",
    "        self.do_eval = True\n",
    "        self.evaluate_during_training = False\n",
    "        self.per_gpu_train_batch_size = 4\n",
    "        self.per_gpu_eval_batch_size = 4\n",
    "        self.gradient_accumulation_steps = 1\n",
    "        self.learning_rate = 5e-5\n",
    "        self.weight_decay = 0.0\n",
    "        self.adam_epsilon = 1e-8\n",
    "        self.max_grad_norm = 1.0\n",
    "        self.num_train_epochs = 3\n",
    "        self.max_steps = -1\n",
    "        self.warmup_steps = 0\n",
    "        self.logging_steps = 1000\n",
    "        self.save_steps = 3500\n",
    "        self.save_total_limit = None\n",
    "        self.eval_all_checkpoints = False\n",
    "        self.no_cuda = False\n",
    "        self.overwrite_output_dir = True\n",
    "        self.overwrite_cache = True\n",
    "        self.should_continue = False\n",
    "        self.seed = 42\n",
    "        self.local_rank = -1\n",
    "        self.fp16 = False\n",
    "        self.fp16_opt_level = 'O1'\n",
    "\n",
    "args = Args()"
   ],
   "metadata": {
    "id": "utprDGf06OVt",
    "execution": {
     "iopub.status.busy": "2021-06-13T13:37:11.063767Z",
     "iopub.execute_input": "2021-06-13T13:37:11.064082Z",
     "iopub.status.idle": "2021-06-13T13:37:11.072616Z",
     "shell.execute_reply.started": "2021-06-13T13:37:11.064053Z",
     "shell.execute_reply": "2021-06-13T13:37:11.071635Z"
    },
    "trusted": true
   },
   "execution_count": 5,
   "outputs": []
  },
  {
   "cell_type": "markdown",
   "source": [
    "## Prepare Dataset"
   ],
   "metadata": {
    "id": "X_qYqlTe9yx2"
   }
  },
  {
   "cell_type": "markdown",
   "source": [
    "Our dialogues dataset will be based on a dataset used in Andrada Olteanu's [article](https://www.kaggle.com/andradaolteanu/sentiment-analysis-rick-and-morty-scripts/) about Rick and Morty sentiment analysis. Big thanks to her work and also to Gabriel Hernandes, author of original [text dataset](https://github.com/ghhernandes/rickmorty-gan/tree/master/data)!\n",
    "\n",
    "![alt text](https://media.giphy.com/media/U6LOakQja88ImTnE6T/giphy.gif)\n",
    "\n",
    "Image from [Giphy](https://giphy.com/)\n",
    "\n",
    "First of all we will use kaggle module to download needed dataset. You can read in more detail about module and how to get Kaggle API Token by this [link](https://github.com/Kaggle/kaggle-api). Or you can just download RickAndMortyScripts.csv file from [article](https://www.kaggle.com/andradaolteanu/sentiment-analysis-rick-and-morty-scripts/) and place this file in your working directory. "
   ],
   "metadata": {
    "id": "uo718Zb-961e"
   }
  },
  {
   "cell_type": "code",
   "source": [
    "# !pip install kaggle"
   ],
   "metadata": {
    "id": "zbB-56mmm-rL",
    "outputId": "7b7d3e65-2b67-44f7-92c8-164d832ad311"
   },
   "execution_count": null,
   "outputs": []
  },
  {
   "cell_type": "code",
   "source": [
    "!ls"
   ],
   "metadata": {
    "id": "hNqypSk3i5Se",
    "outputId": "990fb89a-4a66-4cc2-8bbe-14eb884d9232",
    "execution": {
     "iopub.status.busy": "2021-06-13T13:37:23.492109Z",
     "iopub.execute_input": "2021-06-13T13:37:23.492442Z",
     "iopub.status.idle": "2021-06-13T13:37:24.149809Z",
     "shell.execute_reply.started": "2021-06-13T13:37:23.492411Z",
     "shell.execute_reply": "2021-06-13T13:37:24.148763Z"
    },
    "trusted": true
   },
   "execution_count": 7,
   "outputs": [
    {
     "name": "stdout",
     "text": "__notebook_source__.ipynb\n",
     "output_type": "stream"
    }
   ]
  },
  {
   "cell_type": "code",
   "source": [
    "# !mkdir ~/.kaggle\n",
    "# !cp kaggle.json ~/.kaggle/kaggle.json"
   ],
   "metadata": {
    "id": "1c6L4u8_neZf",
    "outputId": "99fa26db-ae73-4d94-cf92-fdc34157fe1e"
   },
   "execution_count": null,
   "outputs": []
  },
  {
   "cell_type": "code",
   "source": [
    "# !kaggle datasets download andradaolteanu/rickmorty-scripts -f RickAndMortyScripts.csv "
   ],
   "metadata": {
    "id": "r-HczUyTnyzh",
    "outputId": "57317df8-156c-4bf6-cb73-84b8f4eb2561"
   },
   "execution_count": null,
   "outputs": []
  },
  {
   "cell_type": "code",
   "source": [
    "# !mv datasets%2F506221%2F935855%2FRickAndMortyScripts.csv RickAndMortyScripts.csv"
   ],
   "metadata": {
    "id": "ivUgcYk5r_Ff",
    "execution": {
     "iopub.status.busy": "2021-06-13T13:38:47.929800Z",
     "iopub.execute_input": "2021-06-13T13:38:47.930143Z",
     "iopub.status.idle": "2021-06-13T13:38:48.573951Z",
     "shell.execute_reply.started": "2021-06-13T13:38:47.930113Z",
     "shell.execute_reply": "2021-06-13T13:38:48.572969Z"
    },
    "trusted": true
   },
   "execution_count": 10,
   "outputs": [
    {
     "name": "stdout",
     "text": "rickmorty-scripts\n",
     "output_type": "stream"
    }
   ]
  },
  {
   "cell_type": "code",
   "source": [
    "# Let's look at original dataset\n",
    "from pathlib import Path\n",
    "\n",
    "# all_rick = pd.read_csv('tmp/RickAndMortyScripts.csv')\n",
    "# all_rick = pd.read_csv(Path('../input/rickmorty-scripts/RickAndMortyScripts.csv'))\n",
    "all_rick = pd.read_csv(Path('RickAndMortyScripts.csv'))\n",
    "\n",
    "all_rick.head(10)"
   ],
   "metadata": {
    "id": "TxHdyv67dptm",
    "outputId": "1ce4505e-a283-4aaf-f834-db5302498861",
    "execution": {
     "iopub.status.busy": "2021-06-13T13:40:01.358547Z",
     "iopub.execute_input": "2021-06-13T13:40:01.358905Z",
     "iopub.status.idle": "2021-06-13T13:40:01.408661Z",
     "shell.execute_reply.started": "2021-06-13T13:40:01.358874Z",
     "shell.execute_reply": "2021-06-13T13:40:01.407822Z"
    },
    "trusted": true
   },
   "execution_count": 6,
   "outputs": [
    {
     "data": {
      "text/plain": "   index  season no.  episode no. episode name   name  \\\n0      0           1            1        Pilot   Rick   \n1      1           1            1        Pilot  Morty   \n2      2           1            1        Pilot   Rick   \n3      3           1            1        Pilot  Morty   \n4      4           1            1        Pilot   Rick   \n5      5           1            1        Pilot  Morty   \n6      6           1            1        Pilot   Rick   \n7      7           1            1        Pilot   Rick   \n8      8           1            1        Pilot  Morty   \n9      9           1            1        Pilot   Rick   \n\n                                                line  \n0  Morty! You gotta come on. Jus'... you gotta co...  \n1                       What, Rick? What’s going on?  \n2                   I got a surprise for you, Morty.  \n3  It's the middle of the night. What are you tal...  \n4  Come on, I got a surprise for you.  Come on, h...  \n5                Ow! Ow! You're tugging me too hard!  \n6  We gotta go, gotta get outta here, come on. Go...  \n7  What do you think of this... flying vehicle, M...  \n8  Yeah, Rick... I-it's great. Is this the surprise?  \n9  Morty. I had to... I had to do it. I had— I ha...  ",
      "text/html": "<div>\n<style scoped>\n    .dataframe tbody tr th:only-of-type {\n        vertical-align: middle;\n    }\n\n    .dataframe tbody tr th {\n        vertical-align: top;\n    }\n\n    .dataframe thead th {\n        text-align: right;\n    }\n</style>\n<table border=\"1\" class=\"dataframe\">\n  <thead>\n    <tr style=\"text-align: right;\">\n      <th></th>\n      <th>index</th>\n      <th>season no.</th>\n      <th>episode no.</th>\n      <th>episode name</th>\n      <th>name</th>\n      <th>line</th>\n    </tr>\n  </thead>\n  <tbody>\n    <tr>\n      <th>0</th>\n      <td>0</td>\n      <td>1</td>\n      <td>1</td>\n      <td>Pilot</td>\n      <td>Rick</td>\n      <td>Morty! You gotta come on. Jus'... you gotta co...</td>\n    </tr>\n    <tr>\n      <th>1</th>\n      <td>1</td>\n      <td>1</td>\n      <td>1</td>\n      <td>Pilot</td>\n      <td>Morty</td>\n      <td>What, Rick? What’s going on?</td>\n    </tr>\n    <tr>\n      <th>2</th>\n      <td>2</td>\n      <td>1</td>\n      <td>1</td>\n      <td>Pilot</td>\n      <td>Rick</td>\n      <td>I got a surprise for you, Morty.</td>\n    </tr>\n    <tr>\n      <th>3</th>\n      <td>3</td>\n      <td>1</td>\n      <td>1</td>\n      <td>Pilot</td>\n      <td>Morty</td>\n      <td>It's the middle of the night. What are you tal...</td>\n    </tr>\n    <tr>\n      <th>4</th>\n      <td>4</td>\n      <td>1</td>\n      <td>1</td>\n      <td>Pilot</td>\n      <td>Rick</td>\n      <td>Come on, I got a surprise for you.  Come on, h...</td>\n    </tr>\n    <tr>\n      <th>5</th>\n      <td>5</td>\n      <td>1</td>\n      <td>1</td>\n      <td>Pilot</td>\n      <td>Morty</td>\n      <td>Ow! Ow! You're tugging me too hard!</td>\n    </tr>\n    <tr>\n      <th>6</th>\n      <td>6</td>\n      <td>1</td>\n      <td>1</td>\n      <td>Pilot</td>\n      <td>Rick</td>\n      <td>We gotta go, gotta get outta here, come on. Go...</td>\n    </tr>\n    <tr>\n      <th>7</th>\n      <td>7</td>\n      <td>1</td>\n      <td>1</td>\n      <td>Pilot</td>\n      <td>Rick</td>\n      <td>What do you think of this... flying vehicle, M...</td>\n    </tr>\n    <tr>\n      <th>8</th>\n      <td>8</td>\n      <td>1</td>\n      <td>1</td>\n      <td>Pilot</td>\n      <td>Morty</td>\n      <td>Yeah, Rick... I-it's great. Is this the surprise?</td>\n    </tr>\n    <tr>\n      <th>9</th>\n      <td>9</td>\n      <td>1</td>\n      <td>1</td>\n      <td>Pilot</td>\n      <td>Rick</td>\n      <td>Morty. I had to... I had to do it. I had— I ha...</td>\n    </tr>\n  </tbody>\n</table>\n</div>"
     },
     "execution_count": 6,
     "metadata": {},
     "output_type": "execute_result"
    }
   ]
  },
  {
   "cell_type": "markdown",
   "source": [
    "We will convert this dataset in a way that every responce row will contain **n** previous responces as a context. For our purposes seven previous responces will be enough."
   ],
   "metadata": {
    "id": "n51hsl2mAG8v"
   }
  },
  {
   "cell_type": "code",
   "source": [
    "contexted = []\n",
    "\n",
    "n = 7\n",
    "\n",
    "for i in range(n, len(all_rick['line'])):\n",
    "  row = []\n",
    "  prev = i - 1 - n # we additionally substract 1, so row will contain current responce and 7 previous responces  \n",
    "  for j in range(i, prev, -1):\n",
    "    row.append(all_rick['line'][j])\n",
    "  contexted.append(row)  "
   ],
   "metadata": {
    "id": "WyL7Dx1bbLRC",
    "execution": {
     "iopub.status.busy": "2021-06-13T13:40:05.566494Z",
     "iopub.execute_input": "2021-06-13T13:40:05.566841Z",
     "iopub.status.idle": "2021-06-13T13:40:05.687665Z",
     "shell.execute_reply.started": "2021-06-13T13:40:05.566809Z",
     "shell.execute_reply": "2021-06-13T13:40:05.686952Z"
    },
    "trusted": true
   },
   "execution_count": 7,
   "outputs": []
  },
  {
   "cell_type": "code",
   "source": [
    "len(contexted)"
   ],
   "metadata": {
    "id": "R_cwbBolVi14",
    "outputId": "a663e269-b16c-4e47-9820-5a5348b72de5",
    "execution": {
     "iopub.status.busy": "2021-06-13T13:40:08.072508Z",
     "iopub.execute_input": "2021-06-13T13:40:08.072864Z",
     "iopub.status.idle": "2021-06-13T13:40:08.077539Z",
     "shell.execute_reply.started": "2021-06-13T13:40:08.072833Z",
     "shell.execute_reply": "2021-06-13T13:40:08.076760Z"
    },
    "trusted": true
   },
   "execution_count": 8,
   "outputs": [
    {
     "data": {
      "text/plain": "1898"
     },
     "execution_count": 8,
     "metadata": {},
     "output_type": "execute_result"
    }
   ]
  },
  {
   "cell_type": "code",
   "source": [
    "columns = ['response', 'context'] \n",
    "columns = columns + ['context/'+str(i) for i in range(n-1)]\n",
    "columns"
   ],
   "metadata": {
    "id": "gNkYLty-VhTO",
    "outputId": "f63176f9-182a-489c-b7ce-52133c087724",
    "execution": {
     "iopub.status.busy": "2021-06-13T13:40:09.234374Z",
     "iopub.execute_input": "2021-06-13T13:40:09.234689Z",
     "iopub.status.idle": "2021-06-13T13:40:09.244058Z",
     "shell.execute_reply.started": "2021-06-13T13:40:09.234652Z",
     "shell.execute_reply": "2021-06-13T13:40:09.243275Z"
    },
    "trusted": true
   },
   "execution_count": 9,
   "outputs": [
    {
     "data": {
      "text/plain": "['response',\n 'context',\n 'context/0',\n 'context/1',\n 'context/2',\n 'context/3',\n 'context/4',\n 'context/5']"
     },
     "execution_count": 9,
     "metadata": {},
     "output_type": "execute_result"
    }
   ]
  },
  {
   "cell_type": "code",
   "source": [
    "df = pd.DataFrame.from_records(contexted, columns=columns)\n",
    "df.head(5)"
   ],
   "metadata": {
    "id": "kPafxqIYgurW",
    "outputId": "3c1b7586-e434-4cd0-bee1-41540a6021a9",
    "execution": {
     "iopub.status.busy": "2021-06-13T13:40:11.302085Z",
     "iopub.execute_input": "2021-06-13T13:40:11.302405Z",
     "iopub.status.idle": "2021-06-13T13:40:11.323599Z",
     "shell.execute_reply.started": "2021-06-13T13:40:11.302375Z",
     "shell.execute_reply": "2021-06-13T13:40:11.322797Z"
    },
    "trusted": true
   },
   "execution_count": 10,
   "outputs": [
    {
     "data": {
      "text/plain": "                                            response  \\\n0  What do you think of this... flying vehicle, M...   \n1  Yeah, Rick... I-it's great. Is this the surprise?   \n2  Morty. I had to... I had to do it. I had— I ha...   \n3                                    What?! A bomb?!   \n4  We're gonna drop it down there just get a whol...   \n\n                                             context  \\\n0  We gotta go, gotta get outta here, come on. Go...   \n1  What do you think of this... flying vehicle, M...   \n2  Yeah, Rick... I-it's great. Is this the surprise?   \n3  Morty. I had to... I had to do it. I had— I ha...   \n4                                    What?! A bomb?!   \n\n                                           context/0  \\\n0                Ow! Ow! You're tugging me too hard!   \n1  We gotta go, gotta get outta here, come on. Go...   \n2  What do you think of this... flying vehicle, M...   \n3  Yeah, Rick... I-it's great. Is this the surprise?   \n4  Morty. I had to... I had to do it. I had— I ha...   \n\n                                           context/1  \\\n0  Come on, I got a surprise for you.  Come on, h...   \n1                Ow! Ow! You're tugging me too hard!   \n2  We gotta go, gotta get outta here, come on. Go...   \n3  What do you think of this... flying vehicle, M...   \n4  Yeah, Rick... I-it's great. Is this the surprise?   \n\n                                           context/2  \\\n0  It's the middle of the night. What are you tal...   \n1  Come on, I got a surprise for you.  Come on, h...   \n2                Ow! Ow! You're tugging me too hard!   \n3  We gotta go, gotta get outta here, come on. Go...   \n4  What do you think of this... flying vehicle, M...   \n\n                                           context/3  \\\n0                   I got a surprise for you, Morty.   \n1  It's the middle of the night. What are you tal...   \n2  Come on, I got a surprise for you.  Come on, h...   \n3                Ow! Ow! You're tugging me too hard!   \n4  We gotta go, gotta get outta here, come on. Go...   \n\n                                           context/4  \\\n0                       What, Rick? What’s going on?   \n1                   I got a surprise for you, Morty.   \n2  It's the middle of the night. What are you tal...   \n3  Come on, I got a surprise for you.  Come on, h...   \n4                Ow! Ow! You're tugging me too hard!   \n\n                                           context/5  \n0  Morty! You gotta come on. Jus'... you gotta co...  \n1                       What, Rick? What’s going on?  \n2                   I got a surprise for you, Morty.  \n3  It's the middle of the night. What are you tal...  \n4  Come on, I got a surprise for you.  Come on, h...  ",
      "text/html": "<div>\n<style scoped>\n    .dataframe tbody tr th:only-of-type {\n        vertical-align: middle;\n    }\n\n    .dataframe tbody tr th {\n        vertical-align: top;\n    }\n\n    .dataframe thead th {\n        text-align: right;\n    }\n</style>\n<table border=\"1\" class=\"dataframe\">\n  <thead>\n    <tr style=\"text-align: right;\">\n      <th></th>\n      <th>response</th>\n      <th>context</th>\n      <th>context/0</th>\n      <th>context/1</th>\n      <th>context/2</th>\n      <th>context/3</th>\n      <th>context/4</th>\n      <th>context/5</th>\n    </tr>\n  </thead>\n  <tbody>\n    <tr>\n      <th>0</th>\n      <td>What do you think of this... flying vehicle, M...</td>\n      <td>We gotta go, gotta get outta here, come on. Go...</td>\n      <td>Ow! Ow! You're tugging me too hard!</td>\n      <td>Come on, I got a surprise for you.  Come on, h...</td>\n      <td>It's the middle of the night. What are you tal...</td>\n      <td>I got a surprise for you, Morty.</td>\n      <td>What, Rick? What’s going on?</td>\n      <td>Morty! You gotta come on. Jus'... you gotta co...</td>\n    </tr>\n    <tr>\n      <th>1</th>\n      <td>Yeah, Rick... I-it's great. Is this the surprise?</td>\n      <td>What do you think of this... flying vehicle, M...</td>\n      <td>We gotta go, gotta get outta here, come on. Go...</td>\n      <td>Ow! Ow! You're tugging me too hard!</td>\n      <td>Come on, I got a surprise for you.  Come on, h...</td>\n      <td>It's the middle of the night. What are you tal...</td>\n      <td>I got a surprise for you, Morty.</td>\n      <td>What, Rick? What’s going on?</td>\n    </tr>\n    <tr>\n      <th>2</th>\n      <td>Morty. I had to... I had to do it. I had— I ha...</td>\n      <td>Yeah, Rick... I-it's great. Is this the surprise?</td>\n      <td>What do you think of this... flying vehicle, M...</td>\n      <td>We gotta go, gotta get outta here, come on. Go...</td>\n      <td>Ow! Ow! You're tugging me too hard!</td>\n      <td>Come on, I got a surprise for you.  Come on, h...</td>\n      <td>It's the middle of the night. What are you tal...</td>\n      <td>I got a surprise for you, Morty.</td>\n    </tr>\n    <tr>\n      <th>3</th>\n      <td>What?! A bomb?!</td>\n      <td>Morty. I had to... I had to do it. I had— I ha...</td>\n      <td>Yeah, Rick... I-it's great. Is this the surprise?</td>\n      <td>What do you think of this... flying vehicle, M...</td>\n      <td>We gotta go, gotta get outta here, come on. Go...</td>\n      <td>Ow! Ow! You're tugging me too hard!</td>\n      <td>Come on, I got a surprise for you.  Come on, h...</td>\n      <td>It's the middle of the night. What are you tal...</td>\n    </tr>\n    <tr>\n      <th>4</th>\n      <td>We're gonna drop it down there just get a whol...</td>\n      <td>What?! A bomb?!</td>\n      <td>Morty. I had to... I had to do it. I had— I ha...</td>\n      <td>Yeah, Rick... I-it's great. Is this the surprise?</td>\n      <td>What do you think of this... flying vehicle, M...</td>\n      <td>We gotta go, gotta get outta here, come on. Go...</td>\n      <td>Ow! Ow! You're tugging me too hard!</td>\n      <td>Come on, I got a surprise for you.  Come on, h...</td>\n    </tr>\n  </tbody>\n</table>\n</div>"
     },
     "execution_count": 10,
     "metadata": {},
     "output_type": "execute_result"
    }
   ]
  },
  {
   "cell_type": "markdown",
   "source": [
    "Split our dataset into a training and test parts."
   ],
   "metadata": {
    "id": "aBeM8pvEjigq"
   }
  },
  {
   "cell_type": "code",
   "source": [
    "trn_df, val_df = train_test_split(df, test_size = 0.1)\n",
    "trn_df.head()"
   ],
   "metadata": {
    "id": "g1CeutVVlL85",
    "outputId": "dc657ff7-ac12-46c8-f122-11b2933f94b4",
    "execution": {
     "iopub.status.busy": "2021-06-13T13:40:13.796184Z",
     "iopub.execute_input": "2021-06-13T13:40:13.796496Z",
     "iopub.status.idle": "2021-06-13T13:40:13.812057Z",
     "shell.execute_reply.started": "2021-06-13T13:40:13.796465Z",
     "shell.execute_reply": "2021-06-13T13:40:13.811136Z"
    },
    "trusted": true
   },
   "execution_count": 11,
   "outputs": [
    {
     "data": {
      "text/plain": "                                            response  \\\n294   This is what I'm talking about. This is a dog.   \n351                                             Huh?   \n432               But I-it's been like a whole year!   \n270                               You don't know me!   \n1454                           Are we gonna go back?   \n\n                                                context  \\\n294                     Now, be my footstool, Snuffles.   \n351                                    The little girl!   \n432   It's a dream, Morty. We're in your dog's dream...   \n270                    ' Nice, Mrs. Pancakes real nice.   \n1454  Well, there was so much more at stake. I mean,...   \n\n                                              context/0  \\\n294                           Now bring me my slippers.   \n351                          Oh, man, oh, man, oh, man!   \n432                                               What?   \n270                                  You don't know me!   \n1454  She huffed enamel, and we never even talked ab...   \n\n                                              context/1  \\\n294   Don't be a baby! You avoid getting shot in rea...   \n351   Holy crap! We have to escape into someone else...   \n432   No, no, no, I was just playing dead. Good news...   \n270   Come on, let's just get over there and deal wi...   \n1454  Oh, no, I mean, I know it was Morty peeing his...   \n\n                                              context/2  \\\n294                What?! Are you kidding me?! Ohhhhhh!   \n351   Aw! Oh, my God! He recognizes the other dogs o...   \n432   Mmm. Thank you, Fido. Rick! I thought you were...   \n270   Are you listening to me, Morty? Homework is st...   \n1454  Oh, it's fine. I mean, thank you, and, yeah, y...   \n\n                                              context/3  \\\n294   Goldenfold's got more control here than I anti...   \n351                   I don't know. It's Indian giving.   \n432                                    Begin phase two.   \n270   Geez, Rick, in the time it took you to make th...   \n1454  I, um I'm sorry I lied to get out of the thing...   \n\n                                              context/4  \\\n294                                             Ooohhh!   \n351                                            Why not?   \n432                                Th-thanks, snuffles.   \n270   You don't have to try to impress me, Morty. Li...   \n1454  Rick, the only connection between your unquest...   \n\n                                              context/5  \n294   AAAAAAAAAAAAAAAAAAAAAAAHHHHHHHHHHHHHHHH!!!!!!!...  \n351   Whoa, dad, you can't, like, endow a creature w...  \n432   Bring the boy to me. You were always kind to m...  \n270                             \"Inception\" made sense.  \n1454  Because I don't respect therapy, because I'm a...  ",
      "text/html": "<div>\n<style scoped>\n    .dataframe tbody tr th:only-of-type {\n        vertical-align: middle;\n    }\n\n    .dataframe tbody tr th {\n        vertical-align: top;\n    }\n\n    .dataframe thead th {\n        text-align: right;\n    }\n</style>\n<table border=\"1\" class=\"dataframe\">\n  <thead>\n    <tr style=\"text-align: right;\">\n      <th></th>\n      <th>response</th>\n      <th>context</th>\n      <th>context/0</th>\n      <th>context/1</th>\n      <th>context/2</th>\n      <th>context/3</th>\n      <th>context/4</th>\n      <th>context/5</th>\n    </tr>\n  </thead>\n  <tbody>\n    <tr>\n      <th>294</th>\n      <td>This is what I'm talking about. This is a dog.</td>\n      <td>Now, be my footstool, Snuffles.</td>\n      <td>Now bring me my slippers.</td>\n      <td>Don't be a baby! You avoid getting shot in rea...</td>\n      <td>What?! Are you kidding me?! Ohhhhhh!</td>\n      <td>Goldenfold's got more control here than I anti...</td>\n      <td>Ooohhh!</td>\n      <td>AAAAAAAAAAAAAAAAAAAAAAAHHHHHHHHHHHHHHHH!!!!!!!...</td>\n    </tr>\n    <tr>\n      <th>351</th>\n      <td>Huh?</td>\n      <td>The little girl!</td>\n      <td>Oh, man, oh, man, oh, man!</td>\n      <td>Holy crap! We have to escape into someone else...</td>\n      <td>Aw! Oh, my God! He recognizes the other dogs o...</td>\n      <td>I don't know. It's Indian giving.</td>\n      <td>Why not?</td>\n      <td>Whoa, dad, you can't, like, endow a creature w...</td>\n    </tr>\n    <tr>\n      <th>432</th>\n      <td>But I-it's been like a whole year!</td>\n      <td>It's a dream, Morty. We're in your dog's dream...</td>\n      <td>What?</td>\n      <td>No, no, no, I was just playing dead. Good news...</td>\n      <td>Mmm. Thank you, Fido. Rick! I thought you were...</td>\n      <td>Begin phase two.</td>\n      <td>Th-thanks, snuffles.</td>\n      <td>Bring the boy to me. You were always kind to m...</td>\n    </tr>\n    <tr>\n      <th>270</th>\n      <td>You don't know me!</td>\n      <td>' Nice, Mrs. Pancakes real nice.</td>\n      <td>You don't know me!</td>\n      <td>Come on, let's just get over there and deal wi...</td>\n      <td>Are you listening to me, Morty? Homework is st...</td>\n      <td>Geez, Rick, in the time it took you to make th...</td>\n      <td>You don't have to try to impress me, Morty. Li...</td>\n      <td>\"Inception\" made sense.</td>\n    </tr>\n    <tr>\n      <th>1454</th>\n      <td>Are we gonna go back?</td>\n      <td>Well, there was so much more at stake. I mean,...</td>\n      <td>She huffed enamel, and we never even talked ab...</td>\n      <td>Oh, no, I mean, I know it was Morty peeing his...</td>\n      <td>Oh, it's fine. I mean, thank you, and, yeah, y...</td>\n      <td>I, um I'm sorry I lied to get out of the thing...</td>\n      <td>Rick, the only connection between your unquest...</td>\n      <td>Because I don't respect therapy, because I'm a...</td>\n    </tr>\n  </tbody>\n</table>\n</div>"
     },
     "execution_count": 11,
     "metadata": {},
     "output_type": "execute_result"
    }
   ]
  },
  {
   "cell_type": "markdown",
   "source": [
    "Now will convert our dataset in a format suitable for our model. Basically we will concatenate responses in one string for each row (additionally we will add special 'end of string' token between responses, so the model will understand end of each response in a string).  "
   ],
   "metadata": {
    "id": "86F3WhnFO4H8"
   }
  },
  {
   "cell_type": "code",
   "source": [
    "def construct_conv(row, tokenizer, eos = True):\n",
    "    flatten = lambda l: [item for sublist in l for item in sublist]\n",
    "    conv = list(reversed([tokenizer.encode(x) + [tokenizer.eos_token_id] for x in row]))\n",
    "    conv = flatten(conv)\n",
    "    return conv\n",
    "\n",
    "class ConversationDataset(Dataset):\n",
    "    def __init__(self, tokenizer: PreTrainedTokenizer, args, df, block_size=512):\n",
    "\n",
    "        # block_size = block_size - (tokenizer.max_len - tokenizer.max_len_single_sentence)\n",
    "        block_size = block_size - (tokenizer.model_max_length - tokenizer.max_len_single_sentence)\n",
    "\n",
    "        directory = args.cache_dir\n",
    "        cached_features_file = os.path.join(\n",
    "            directory, args.model_type + \"_cached_lm_\" + str(block_size)\n",
    "        )\n",
    "\n",
    "        if os.path.exists(cached_features_file) and not args.overwrite_cache:\n",
    "            logger.info(\"Loading features from cached file %s\", cached_features_file)\n",
    "            with open(cached_features_file, \"rb\") as handle:\n",
    "                self.examples = pickle.load(handle)\n",
    "        else:\n",
    "            logger.info(\"Creating features from dataset file at %s\", directory)\n",
    "\n",
    "            self.examples = []\n",
    "            for _, row in df.iterrows():\n",
    "                conv = construct_conv(row, tokenizer)\n",
    "                self.examples.append(conv)\n",
    "\n",
    "            logger.info(\"Saving features into cached file %s\", cached_features_file)\n",
    "            with open(cached_features_file, \"wb\") as handle:\n",
    "                pickle.dump(self.examples, handle, protocol=pickle.HIGHEST_PROTOCOL)\n",
    "\n",
    "    def __len__(self):\n",
    "        return len(self.examples)\n",
    "\n",
    "    def __getitem__(self, item):\n",
    "        return torch.tensor(self.examples[item], dtype=torch.long)"
   ],
   "metadata": {
    "id": "PX7jeWpYmOe_",
    "execution": {
     "iopub.status.busy": "2021-06-13T13:40:17.354939Z",
     "iopub.execute_input": "2021-06-13T13:40:17.355249Z",
     "iopub.status.idle": "2021-06-13T13:40:17.369078Z",
     "shell.execute_reply.started": "2021-06-13T13:40:17.355220Z",
     "shell.execute_reply": "2021-06-13T13:40:17.368268Z"
    },
    "trusted": true
   },
   "execution_count": 17,
   "outputs": []
  },
  {
   "cell_type": "code",
   "source": "# Cacheing and storing of data/checkpoints\n\ndef load_and_cache_examples(args, tokenizer, df_trn, df_val, evaluate=False):\n    return ConversationDataset(tokenizer, args, df_val if evaluate else df_trn)\n\n\ndef set_seed(args):\n    random.seed(args.seed)\n    np.random.seed(args.seed)\n    torch.manual_seed(args.seed)\n    if args.n_gpu > 0:\n        torch.cuda.manual_seed_all(args.seed)\n\n\ndef _sorted_checkpoints(args, checkpoint_prefix=\"checkpoint\", use_mtime=False) -> List[str]:\n    ordering_and_checkpoint_path = []\n\n    glob_checkpoints = glob.glob(os.path.join(args.output_dir, \"{}-*\".format(checkpoint_prefix)))\n\n    for path in glob_checkpoints:\n        if use_mtime:\n            ordering_and_checkpoint_path.append((os.path.getmtime(path), path))\n        else:\n            regex_match = re.match(\".*{}-([0-9]+)\".format(checkpoint_prefix), path)\n            if regex_match and regex_match.groups():\n                ordering_and_checkpoint_path.append((int(regex_match.groups()[0]), path))\n\n    checkpoints_sorted = sorted(ordering_and_checkpoint_path)\n    checkpoints_sorted = [checkpoint[1] for checkpoint in checkpoints_sorted]\n    return checkpoints_sorted\n\n\ndef _rotate_checkpoints(args, checkpoint_prefix=\"checkpoint\", use_mtime=False) -> None:\n    if not args.save_total_limit:\n        return\n    if args.save_total_limit <= 0:\n        return\n\n    # Check if we should delete older checkpoint(s)\n    checkpoints_sorted = _sorted_checkpoints(args, checkpoint_prefix, use_mtime)\n    if len(checkpoints_sorted) <= args.save_total_limit:\n        return\n\n    number_of_checkpoints_to_delete = max(0, len(checkpoints_sorted) - args.save_total_limit)\n    checkpoints_to_be_deleted = checkpoints_sorted[:number_of_checkpoints_to_delete]\n    for checkpoint in checkpoints_to_be_deleted:\n        logger.info(\"Deleting older checkpoint [{}] due to args.save_total_limit\".format(checkpoint))\n        shutil.rmtree(checkpoint)",
   "metadata": {
    "id": "naaRHoXgnStq",
    "execution": {
     "iopub.status.busy": "2021-06-13T13:40:23.450509Z",
     "iopub.execute_input": "2021-06-13T13:40:23.450834Z",
     "iopub.status.idle": "2021-06-13T13:40:23.464197Z",
     "shell.execute_reply.started": "2021-06-13T13:40:23.450803Z",
     "shell.execute_reply": "2021-06-13T13:40:23.463268Z"
    },
    "trusted": true
   },
   "execution_count": 13,
   "outputs": []
  },
  {
   "cell_type": "markdown",
   "source": "## Training and Evaluating\n\nThere will be quite a lot of code needed for training our model but don’t worry, everything should work as is, the main thing is to give the model the dataset in the right format.\n\n![alt text](https://media.giphy.com/media/KetvQljQJdEMscR83K/giphy.gif)\n\nImage from [Giphy](https://giphy.com/)",
   "metadata": {
    "id": "pkvMNnrnVHQw"
   }
  },
  {
   "cell_type": "code",
   "source": "def train(args, train_dataset, model: PreTrainedModel, tokenizer: PreTrainedTokenizer) -> Tuple[int, float]:\n    \"\"\" Train the model \"\"\"\n    if args.local_rank in [-1, 0]:\n        tb_writer = SummaryWriter()\n\n    args.train_batch_size = args.per_gpu_train_batch_size * max(1, args.n_gpu)\n\n    def collate(examples: List[torch.Tensor]):\n        if tokenizer._pad_token is None:\n            return pad_sequence(examples, batch_first=True)\n        return pad_sequence(examples, batch_first=True, padding_value=tokenizer.pad_token_id)\n\n    train_sampler = RandomSampler(train_dataset) if args.local_rank == -1 else DistributedSampler(train_dataset)\n    train_dataloader = DataLoader(\n        train_dataset, sampler=train_sampler, batch_size=args.train_batch_size, collate_fn=collate, drop_last = True\n    )\n\n    if args.max_steps > 0:\n        t_total = args.max_steps\n        args.num_train_epochs = args.max_steps // (len(train_dataloader) // args.gradient_accumulation_steps) + 1\n    else:\n        t_total = len(train_dataloader) // args.gradient_accumulation_steps * args.num_train_epochs\n\n    model = model.module if hasattr(model, \"module\") else model  # Take care of distributed/parallel training\n    model.resize_token_embeddings(len(tokenizer))\n    # add_special_tokens_(model, tokenizer)\n\n\n    # Prepare optimizer and schedule (linear warmup and decay)\n    no_decay = [\"bias\", \"LayerNorm.weight\"]\n    optimizer_grouped_parameters = [\n        {\n            \"params\": [p for n, p in model.named_parameters() if not any(nd in n for nd in no_decay)],\n            \"weight_decay\": args.weight_decay,\n        },\n        {\"params\": [p for n, p in model.named_parameters() if any(nd in n for nd in no_decay)], \"weight_decay\": 0.0},\n    ]\n    optimizer = AdamW(optimizer_grouped_parameters, lr=args.learning_rate, eps=args.adam_epsilon)\n    scheduler = get_linear_schedule_with_warmup(\n        optimizer, num_warmup_steps=args.warmup_steps, num_training_steps=t_total\n    )\n\n    # Check if saved optimizer or scheduler states exist\n    if (\n        args.model_name_or_path\n        and os.path.isfile(os.path.join(args.model_name_or_path, \"optimizer.pt\"))\n        and os.path.isfile(os.path.join(args.model_name_or_path, \"scheduler.pt\"))\n    ):\n        # Load in optimizer and scheduler states\n        optimizer.load_state_dict(torch.load(os.path.join(args.model_name_or_path, \"optimizer.pt\")))\n        scheduler.load_state_dict(torch.load(os.path.join(args.model_name_or_path, \"scheduler.pt\")))\n\n    if args.fp16:\n        try:\n            from apex import amp\n        except ImportError:\n            raise ImportError(\"Please install apex from https://www.github.com/nvidia/apex to use fp16 training.\")\n        model, optimizer = amp.initialize(model, optimizer, opt_level=args.fp16_opt_level)\n\n    # multi-gpu training (should be after apex fp16 initialization)\n    if args.n_gpu > 1:\n        model = torch.nn.DataParallel(model)\n\n    # Distributed training (should be after apex fp16 initialization)\n    if args.local_rank != -1:\n        model = torch.nn.parallel.DistributedDataParallel(\n            model, device_ids=[args.local_rank], output_device=args.local_rank, find_unused_parameters=True\n        )\n\n    # Train!\n    logger.info(\"***** Running training *****\")\n    logger.info(\"  Num examples = %d\", len(train_dataset))\n    logger.info(\"  Num Epochs = %d\", args.num_train_epochs)\n    logger.info(\"  Instantaneous batch size per GPU = %d\", args.per_gpu_train_batch_size)\n    logger.info(\n        \"  Total train batch size (w. parallel, distributed & accumulation) = %d\",\n        args.train_batch_size\n        * args.gradient_accumulation_steps\n        * (torch.distributed.get_world_size() if args.local_rank != -1 else 1),\n    )\n    logger.info(\"  Gradient Accumulation steps = %d\", args.gradient_accumulation_steps)\n    logger.info(\"  Total optimization steps = %d\", t_total)\n\n    global_step = 0\n    epochs_trained = 0\n    steps_trained_in_current_epoch = 0\n    # Check if continuing training from a checkpoint\n    if args.model_name_or_path and os.path.exists(args.model_name_or_path):\n        try:\n            # set global_step to gobal_step of last saved checkpoint from model path\n            checkpoint_suffix = args.model_name_or_path.split(\"-\")[-1].split(\"/\")[0]\n            global_step = int(checkpoint_suffix)\n            epochs_trained = global_step // (len(train_dataloader) // args.gradient_accumulation_steps)\n            steps_trained_in_current_epoch = global_step % (len(train_dataloader) // args.gradient_accumulation_steps)\n\n            logger.info(\"  Continuing training from checkpoint, will skip to saved global_step\")\n            logger.info(\"  Continuing training from epoch %d\", epochs_trained)\n            logger.info(\"  Continuing training from global step %d\", global_step)\n            logger.info(\"  Will skip the first %d steps in the first epoch\", steps_trained_in_current_epoch)\n        except ValueError:\n            logger.info(\"  Starting fine-tuning.\")\n\n    tr_loss, logging_loss = 0.0, 0.0\n\n    model.zero_grad()\n    train_iterator = trange(\n        epochs_trained, int(args.num_train_epochs), desc=\"Epoch\", disable=args.local_rank not in [-1, 0]\n    )\n    set_seed(args)  # Added here for reproducibility\n    for _ in train_iterator:\n        epoch_iterator = tqdm(train_dataloader, desc=\"Iteration\", disable=args.local_rank not in [-1, 0])\n        for step, batch in enumerate(epoch_iterator):\n\n            # Skip past any already trained steps if resuming training\n            if steps_trained_in_current_epoch > 0:\n                steps_trained_in_current_epoch -= 1\n                continue\n\n            inputs, labels = (batch, batch)\n            if inputs.shape[1] > 1024: continue\n            inputs = inputs.to(args.device)\n            labels = labels.to(args.device)\n            model.train()\n            outputs = model(inputs, labels=labels)\n            loss = outputs[0]  # model outputs are always tuple in transformers (see doc)\n\n            if args.n_gpu > 1:\n                loss = loss.mean()  # mean() to average on multi-gpu parallel training\n            if args.gradient_accumulation_steps > 1:\n                loss = loss / args.gradient_accumulation_steps\n\n            if args.fp16:\n                with amp.scale_loss(loss, optimizer) as scaled_loss:\n                    scaled_loss.backward()\n            else:\n                loss.backward()\n\n            tr_loss += loss.item()\n            if (step + 1) % args.gradient_accumulation_steps == 0:\n                if args.fp16:\n                    torch.nn.utils.clip_grad_norm_(amp.master_params(optimizer), args.max_grad_norm)\n                else:\n                    torch.nn.utils.clip_grad_norm_(model.parameters(), args.max_grad_norm)\n                optimizer.step()\n                scheduler.step()  # Update learning rate schedule\n                model.zero_grad()\n                global_step += 1\n\n                if args.local_rank in [-1, 0] and args.logging_steps > 0 and global_step % args.logging_steps == 0:\n                    # Log metrics\n                    if (\n                        args.local_rank == -1 and args.evaluate_during_training\n                    ):  # Only evaluate when single GPU otherwise metrics may not average well\n                        results = evaluate(args, model, tokenizer)\n                        for key, value in results.items():\n                            tb_writer.add_scalar(\"eval_{}\".format(key), value, global_step)\n                    tb_writer.add_scalar(\"lr\", scheduler.get_lr()[0], global_step)\n                    tb_writer.add_scalar(\"loss\", (tr_loss - logging_loss) / args.logging_steps, global_step)\n                    logging_loss = tr_loss\n\n                if args.local_rank in [-1, 0] and args.save_steps > 0 and global_step % args.save_steps == 0:\n                    checkpoint_prefix = \"checkpoint\"\n                    # Save model checkpoint\n                    output_dir = os.path.join(args.output_dir, \"{}-{}\".format(checkpoint_prefix, global_step))\n                    os.makedirs(output_dir, exist_ok=True)\n                    model_to_save = (\n                        model.module if hasattr(model, \"module\") else model\n                    )  # Take care of distributed/parallel training\n                    model_to_save.save_pretrained(output_dir)\n                    tokenizer.save_pretrained(output_dir)\n\n                    torch.save(args, os.path.join(output_dir, \"training_args.bin\"))\n                    logger.info(\"Saving model checkpoint to %s\", output_dir)\n\n                    _rotate_checkpoints(args, checkpoint_prefix)\n\n                    torch.save(optimizer.state_dict(), os.path.join(output_dir, \"optimizer.pt\"))\n                    torch.save(scheduler.state_dict(), os.path.join(output_dir, \"scheduler.pt\"))\n                    logger.info(\"Saving optimizer and scheduler states to %s\", output_dir)\n\n            if args.max_steps > 0 and global_step > args.max_steps:\n                epoch_iterator.close()\n                break\n        if args.max_steps > 0 and global_step > args.max_steps:\n            train_iterator.close()\n            break\n\n    if args.local_rank in [-1, 0]:\n        tb_writer.close()\n\n    return global_step, tr_loss / global_step\n\n# Evaluation of some model\n\ndef evaluate(args, model: PreTrainedModel, tokenizer: PreTrainedTokenizer, df_trn, df_val, prefix=\"\") -> Dict:\n    # Loop to handle MNLI double evaluation (matched, mis-matched)\n    eval_output_dir = args.output_dir\n\n    eval_dataset = load_and_cache_examples(args, tokenizer, df_trn, df_val, evaluate=True)\n    os.makedirs(eval_output_dir, exist_ok=True)\n    args.eval_batch_size = args.per_gpu_eval_batch_size * max(1, args.n_gpu)\n    # Note that DistributedSampler samples randomly\n\n    def collate(examples: List[torch.Tensor]):\n        if tokenizer._pad_token is None:\n            return pad_sequence(examples, batch_first=True)\n        return pad_sequence(examples, batch_first=True, padding_value=tokenizer.pad_token_id)\n\n    eval_sampler = SequentialSampler(eval_dataset)\n    eval_dataloader = DataLoader(\n        eval_dataset, sampler=eval_sampler, batch_size=args.eval_batch_size, collate_fn=collate, drop_last = True\n    )\n\n    # multi-gpu evaluate\n    if args.n_gpu > 1:\n        model = torch.nn.DataParallel(model)\n\n    # Eval!\n    logger.info(\"***** Running evaluation {} *****\".format(prefix))\n    logger.info(\"  Num examples = %d\", len(eval_dataset))\n    logger.info(\"  Batch size = %d\", args.eval_batch_size)\n    eval_loss = 0.0\n    nb_eval_steps = 0\n    model.eval()\n\n    for batch in tqdm(eval_dataloader, desc=\"Evaluating\"):\n        inputs, labels = (batch, batch)\n        inputs = inputs.to(args.device)\n        labels = labels.to(args.device)\n\n        with torch.no_grad():\n            outputs = model(inputs, labels=labels)\n            lm_loss = outputs[0]\n            eval_loss += lm_loss.mean().item()\n        nb_eval_steps += 1\n\n    eval_loss = eval_loss / nb_eval_steps\n    perplexity = torch.exp(torch.tensor(eval_loss))\n\n    result = {\"perplexity\": perplexity}\n\n    output_eval_file = os.path.join(eval_output_dir, prefix, \"eval_results.txt\")\n    with open(output_eval_file, \"w\") as writer:\n        logger.info(\"***** Eval results {} *****\".format(prefix))\n        for key in sorted(result.keys()):\n            logger.info(\"  %s = %s\", key, str(result[key]))\n            writer.write(\"%s = %s\\n\" % (key, str(result[key])))\n\n    return result",
   "metadata": {
    "id": "tXzKlXHeu0Mb",
    "execution": {
     "iopub.status.busy": "2021-06-13T13:40:26.870181Z",
     "iopub.execute_input": "2021-06-13T13:40:26.870498Z",
     "iopub.status.idle": "2021-06-13T13:40:26.913870Z",
     "shell.execute_reply.started": "2021-06-13T13:40:26.870467Z",
     "shell.execute_reply": "2021-06-13T13:40:26.912786Z"
    },
    "trusted": true
   },
   "execution_count": 14,
   "outputs": []
  },
  {
   "cell_type": "code",
   "source": "# Main runner\n\ndef main(df_trn, df_val):\n    args = Args()\n    \n    if args.should_continue:\n        sorted_checkpoints = _sorted_checkpoints(args)\n        if len(sorted_checkpoints) == 0:\n            raise ValueError(\"Used --should_continue but no checkpoint was found in --output_dir.\")\n        else:\n            args.model_name_or_path = sorted_checkpoints[-1]\n\n    if (\n        os.path.exists(args.output_dir)\n        and os.listdir(args.output_dir)\n        and args.do_train\n        and not args.overwrite_output_dir\n        and not args.should_continue\n    ):\n        raise ValueError(\n            \"Output directory ({}) already exists and is not empty. Use --overwrite_output_dir to overcome.\".format(\n                args.output_dir\n            )\n        )\n\n    # Setup CUDA, GPU & distributed training\n    device = torch.device(\"cuda\")\n    args.n_gpu = torch.cuda.device_count()\n    args.device = device\n\n    # Setup logging\n    logging.basicConfig(\n        format=\"%(asctime)s - %(levelname)s - %(name)s -   %(message)s\",\n        datefmt=\"%m/%d/%Y %H:%M:%S\",\n        level=logging.INFO if args.local_rank in [-1, 0] else logging.WARN,\n    )\n    logger.warning(\n        \"Process rank: %s, device: %s, n_gpu: %s, distributed training: %s, 16-bits training: %s\",\n        args.local_rank,\n        device,\n        args.n_gpu,\n        bool(args.local_rank != -1),\n        args.fp16,\n    )\n\n    # Set seed\n    set_seed(args)\n\n    config = AutoConfig.from_pretrained(args.config_name, cache_dir=args.cache_dir)\n    tokenizer = AutoTokenizer.from_pretrained(args.tokenizer_name, cache_dir=args.cache_dir)\n    model = AutoModelWithLMHead.from_pretrained(\n        args.model_name_or_path,\n        from_tf=False,\n        config=config,\n        cache_dir=args.cache_dir,\n    )\n    model.to(args.device)\n    \n    logger.info(\"Training/evaluation parameters %s\", args)\n\n    # Training\n    if args.do_train:\n        train_dataset = load_and_cache_examples(args, tokenizer, df_trn, df_val, evaluate=False)\n\n        global_step, tr_loss = train(args, train_dataset, model, tokenizer)\n        logger.info(\" global_step = %s, average loss = %s\", global_step, tr_loss)\n\n    # Saving best-practices: if you use save_pretrained for the model and tokenizer, you can reload them using from_pretrained()\n    if args.do_train:\n        # Create output directory if needed\n        os.makedirs(args.output_dir, exist_ok=True)\n\n        logger.info(\"Saving model checkpoint to %s\", args.output_dir)\n        # Save a trained model, configuration and tokenizer using `save_pretrained()`.\n        # They can then be reloaded using `from_pretrained()`\n        model_to_save = (\n            model.module if hasattr(model, \"module\") else model\n        )  # Take care of distributed/parallel training\n        model_to_save.save_pretrained(args.output_dir)\n        tokenizer.save_pretrained(args.output_dir)\n\n        # Good practice: save your training arguments together with the trained model\n        torch.save(args, os.path.join(args.output_dir, \"training_args.bin\"))\n\n        # Load a trained model and vocabulary that you have fine-tuned\n        model = AutoModelWithLMHead.from_pretrained(args.output_dir)\n        tokenizer = AutoTokenizer.from_pretrained(args.output_dir)\n        model.to(args.device)\n\n    # Evaluation\n    results = {}\n    if args.do_eval and args.local_rank in [-1, 0]:\n        checkpoints = [args.output_dir]\n        if args.eval_all_checkpoints:\n            checkpoints = list(\n                os.path.dirname(c) for c in sorted(glob.glob(args.output_dir + \"/**/\" + WEIGHTS_NAME, recursive=True))\n            )\n            logging.getLogger(\"transformers.modeling_utils\").setLevel(logging.WARN)  # Reduce logging\n        logger.info(\"Evaluate the following checkpoints: %s\", checkpoints)\n        for checkpoint in checkpoints:\n            global_step = checkpoint.split(\"-\")[-1] if len(checkpoints) > 1 else \"\"\n            prefix = checkpoint.split(\"/\")[-1] if checkpoint.find(\"checkpoint\") != -1 else \"\"\n\n            model = AutoModelWithLMHead.from_pretrained(checkpoint)\n            model.to(args.device)\n            result = evaluate(args, model, tokenizer, df_trn, df_val, prefix=prefix)\n            result = dict((k + \"_{}\".format(global_step), v) for k, v in result.items())\n            results.update(result)\n\n    return results",
   "metadata": {
    "id": "-MGD6bFXV4Z-",
    "execution": {
     "iopub.status.busy": "2021-06-13T13:40:28.847798Z",
     "iopub.execute_input": "2021-06-13T13:40:28.848116Z",
     "iopub.status.idle": "2021-06-13T13:40:28.865020Z",
     "shell.execute_reply.started": "2021-06-13T13:40:28.848087Z",
     "shell.execute_reply": "2021-06-13T13:40:28.864132Z"
    },
    "trusted": true
   },
   "execution_count": 18,
   "outputs": []
  },
  {
   "cell_type": "markdown",
   "source": "It is time to train our model!\n\n![alt text](https://media.giphy.com/media/Tia3dkakIp2m4uGoDI/giphy.gif)\n\nImage from [Giphy](https://giphy.com/)",
   "metadata": {
    "id": "UZEHDzR0Vjs7"
   }
  },
  {
   "cell_type": "code",
   "source": "main(trn_df, val_df)",
   "metadata": {
    "id": "__iqR8YFV-Ex",
    "outputId": "7644dbbc-e088-48ad-a3a9-5e0e11303bdd",
    "execution": {
     "iopub.status.busy": "2021-06-13T13:40:31.600085Z",
     "iopub.execute_input": "2021-06-13T13:40:31.600613Z",
     "iopub.status.idle": "2021-06-13T13:41:04.376878Z",
     "shell.execute_reply.started": "2021-06-13T13:40:31.600567Z",
     "shell.execute_reply": "2021-06-13T13:41:04.374712Z"
    },
    "trusted": true
   },
   "execution_count": 19,
   "outputs": [
    {
     "name": "stderr",
     "output_type": "stream",
     "text": [
      "06/13/2021 17:09:23 - WARNING - __main__ -   Process rank: -1, device: cuda, n_gpu: 1, distributed training: False, 16-bits training: False\n",
      "/home/susan/miniconda3/envs/gpt2_paraphrase/lib/python3.7/site-packages/transformers/models/auto/modeling_auto.py:810: FutureWarning: The class `AutoModelWithLMHead` is deprecated and will be removed in a future version. Please use `AutoModelForCausalLM` for causal language models, `AutoModelForMaskedLM` for masked language models and `AutoModelForSeq2SeqLM` for encoder-decoder models.\n",
      "  FutureWarning,\n"
     ]
    },
    {
     "ename": "RuntimeError",
     "evalue": "CUDA out of memory. Tried to allocate 20.00 MiB (GPU 0; 1.96 GiB total capacity; 685.54 MiB already allocated; 1024.00 KiB free; 732.00 MiB reserved in total by PyTorch)",
     "output_type": "error",
     "traceback": [
      "\u001B[0;31m---------------------------------------------------------------------------\u001B[0m",
      "\u001B[0;31mRuntimeError\u001B[0m                              Traceback (most recent call last)",
      "\u001B[0;32m<ipython-input-19-875e9acf6aea>\u001B[0m in \u001B[0;36m<module>\u001B[0;34m\u001B[0m\n\u001B[0;32m----> 1\u001B[0;31m \u001B[0mmain\u001B[0m\u001B[0;34m(\u001B[0m\u001B[0mtrn_df\u001B[0m\u001B[0;34m,\u001B[0m \u001B[0mval_df\u001B[0m\u001B[0;34m)\u001B[0m\u001B[0;34m\u001B[0m\u001B[0;34m\u001B[0m\u001B[0m\n\u001B[0m\u001B[1;32m      2\u001B[0m \u001B[0;34m\u001B[0m\u001B[0m\n",
      "\u001B[0;32m<ipython-input-18-a7855757ffee>\u001B[0m in \u001B[0;36mmain\u001B[0;34m(df_trn, df_val)\u001B[0m\n\u001B[1;32m     55\u001B[0m         \u001B[0mcache_dir\u001B[0m\u001B[0;34m=\u001B[0m\u001B[0margs\u001B[0m\u001B[0;34m.\u001B[0m\u001B[0mcache_dir\u001B[0m\u001B[0;34m,\u001B[0m\u001B[0;34m\u001B[0m\u001B[0;34m\u001B[0m\u001B[0m\n\u001B[1;32m     56\u001B[0m     )\n\u001B[0;32m---> 57\u001B[0;31m     \u001B[0mmodel\u001B[0m\u001B[0;34m.\u001B[0m\u001B[0mto\u001B[0m\u001B[0;34m(\u001B[0m\u001B[0margs\u001B[0m\u001B[0;34m.\u001B[0m\u001B[0mdevice\u001B[0m\u001B[0;34m)\u001B[0m\u001B[0;34m\u001B[0m\u001B[0;34m\u001B[0m\u001B[0m\n\u001B[0m\u001B[1;32m     58\u001B[0m \u001B[0;34m\u001B[0m\u001B[0m\n\u001B[1;32m     59\u001B[0m     \u001B[0mlogger\u001B[0m\u001B[0;34m.\u001B[0m\u001B[0minfo\u001B[0m\u001B[0;34m(\u001B[0m\u001B[0;34m\"Training/evaluation parameters %s\"\u001B[0m\u001B[0;34m,\u001B[0m \u001B[0margs\u001B[0m\u001B[0;34m)\u001B[0m\u001B[0;34m\u001B[0m\u001B[0;34m\u001B[0m\u001B[0m\n",
      "\u001B[0;32m~/miniconda3/envs/gpt2_paraphrase/lib/python3.7/site-packages/torch/nn/modules/module.py\u001B[0m in \u001B[0;36mto\u001B[0;34m(self, *args, **kwargs)\u001B[0m\n\u001B[1;32m    671\u001B[0m             \u001B[0;32mreturn\u001B[0m \u001B[0mt\u001B[0m\u001B[0;34m.\u001B[0m\u001B[0mto\u001B[0m\u001B[0;34m(\u001B[0m\u001B[0mdevice\u001B[0m\u001B[0;34m,\u001B[0m \u001B[0mdtype\u001B[0m \u001B[0;32mif\u001B[0m \u001B[0mt\u001B[0m\u001B[0;34m.\u001B[0m\u001B[0mis_floating_point\u001B[0m\u001B[0;34m(\u001B[0m\u001B[0;34m)\u001B[0m \u001B[0;32mor\u001B[0m \u001B[0mt\u001B[0m\u001B[0;34m.\u001B[0m\u001B[0mis_complex\u001B[0m\u001B[0;34m(\u001B[0m\u001B[0;34m)\u001B[0m \u001B[0;32melse\u001B[0m \u001B[0;32mNone\u001B[0m\u001B[0;34m,\u001B[0m \u001B[0mnon_blocking\u001B[0m\u001B[0;34m)\u001B[0m\u001B[0;34m\u001B[0m\u001B[0;34m\u001B[0m\u001B[0m\n\u001B[1;32m    672\u001B[0m \u001B[0;34m\u001B[0m\u001B[0m\n\u001B[0;32m--> 673\u001B[0;31m         \u001B[0;32mreturn\u001B[0m \u001B[0mself\u001B[0m\u001B[0;34m.\u001B[0m\u001B[0m_apply\u001B[0m\u001B[0;34m(\u001B[0m\u001B[0mconvert\u001B[0m\u001B[0;34m)\u001B[0m\u001B[0;34m\u001B[0m\u001B[0;34m\u001B[0m\u001B[0m\n\u001B[0m\u001B[1;32m    674\u001B[0m \u001B[0;34m\u001B[0m\u001B[0m\n\u001B[1;32m    675\u001B[0m     def register_backward_hook(\n",
      "\u001B[0;32m~/miniconda3/envs/gpt2_paraphrase/lib/python3.7/site-packages/torch/nn/modules/module.py\u001B[0m in \u001B[0;36m_apply\u001B[0;34m(self, fn)\u001B[0m\n\u001B[1;32m    385\u001B[0m     \u001B[0;32mdef\u001B[0m \u001B[0m_apply\u001B[0m\u001B[0;34m(\u001B[0m\u001B[0mself\u001B[0m\u001B[0;34m,\u001B[0m \u001B[0mfn\u001B[0m\u001B[0;34m)\u001B[0m\u001B[0;34m:\u001B[0m\u001B[0;34m\u001B[0m\u001B[0;34m\u001B[0m\u001B[0m\n\u001B[1;32m    386\u001B[0m         \u001B[0;32mfor\u001B[0m \u001B[0mmodule\u001B[0m \u001B[0;32min\u001B[0m \u001B[0mself\u001B[0m\u001B[0;34m.\u001B[0m\u001B[0mchildren\u001B[0m\u001B[0;34m(\u001B[0m\u001B[0;34m)\u001B[0m\u001B[0;34m:\u001B[0m\u001B[0;34m\u001B[0m\u001B[0;34m\u001B[0m\u001B[0m\n\u001B[0;32m--> 387\u001B[0;31m             \u001B[0mmodule\u001B[0m\u001B[0;34m.\u001B[0m\u001B[0m_apply\u001B[0m\u001B[0;34m(\u001B[0m\u001B[0mfn\u001B[0m\u001B[0;34m)\u001B[0m\u001B[0;34m\u001B[0m\u001B[0;34m\u001B[0m\u001B[0m\n\u001B[0m\u001B[1;32m    388\u001B[0m \u001B[0;34m\u001B[0m\u001B[0m\n\u001B[1;32m    389\u001B[0m         \u001B[0;32mdef\u001B[0m \u001B[0mcompute_should_use_set_data\u001B[0m\u001B[0;34m(\u001B[0m\u001B[0mtensor\u001B[0m\u001B[0;34m,\u001B[0m \u001B[0mtensor_applied\u001B[0m\u001B[0;34m)\u001B[0m\u001B[0;34m:\u001B[0m\u001B[0;34m\u001B[0m\u001B[0;34m\u001B[0m\u001B[0m\n",
      "\u001B[0;32m~/miniconda3/envs/gpt2_paraphrase/lib/python3.7/site-packages/torch/nn/modules/module.py\u001B[0m in \u001B[0;36m_apply\u001B[0;34m(self, fn)\u001B[0m\n\u001B[1;32m    385\u001B[0m     \u001B[0;32mdef\u001B[0m \u001B[0m_apply\u001B[0m\u001B[0;34m(\u001B[0m\u001B[0mself\u001B[0m\u001B[0;34m,\u001B[0m \u001B[0mfn\u001B[0m\u001B[0;34m)\u001B[0m\u001B[0;34m:\u001B[0m\u001B[0;34m\u001B[0m\u001B[0;34m\u001B[0m\u001B[0m\n\u001B[1;32m    386\u001B[0m         \u001B[0;32mfor\u001B[0m \u001B[0mmodule\u001B[0m \u001B[0;32min\u001B[0m \u001B[0mself\u001B[0m\u001B[0;34m.\u001B[0m\u001B[0mchildren\u001B[0m\u001B[0;34m(\u001B[0m\u001B[0;34m)\u001B[0m\u001B[0;34m:\u001B[0m\u001B[0;34m\u001B[0m\u001B[0;34m\u001B[0m\u001B[0m\n\u001B[0;32m--> 387\u001B[0;31m             \u001B[0mmodule\u001B[0m\u001B[0;34m.\u001B[0m\u001B[0m_apply\u001B[0m\u001B[0;34m(\u001B[0m\u001B[0mfn\u001B[0m\u001B[0;34m)\u001B[0m\u001B[0;34m\u001B[0m\u001B[0;34m\u001B[0m\u001B[0m\n\u001B[0m\u001B[1;32m    388\u001B[0m \u001B[0;34m\u001B[0m\u001B[0m\n\u001B[1;32m    389\u001B[0m         \u001B[0;32mdef\u001B[0m \u001B[0mcompute_should_use_set_data\u001B[0m\u001B[0;34m(\u001B[0m\u001B[0mtensor\u001B[0m\u001B[0;34m,\u001B[0m \u001B[0mtensor_applied\u001B[0m\u001B[0;34m)\u001B[0m\u001B[0;34m:\u001B[0m\u001B[0;34m\u001B[0m\u001B[0;34m\u001B[0m\u001B[0m\n",
      "\u001B[0;32m~/miniconda3/envs/gpt2_paraphrase/lib/python3.7/site-packages/torch/nn/modules/module.py\u001B[0m in \u001B[0;36m_apply\u001B[0;34m(self, fn)\u001B[0m\n\u001B[1;32m    385\u001B[0m     \u001B[0;32mdef\u001B[0m \u001B[0m_apply\u001B[0m\u001B[0;34m(\u001B[0m\u001B[0mself\u001B[0m\u001B[0;34m,\u001B[0m \u001B[0mfn\u001B[0m\u001B[0;34m)\u001B[0m\u001B[0;34m:\u001B[0m\u001B[0;34m\u001B[0m\u001B[0;34m\u001B[0m\u001B[0m\n\u001B[1;32m    386\u001B[0m         \u001B[0;32mfor\u001B[0m \u001B[0mmodule\u001B[0m \u001B[0;32min\u001B[0m \u001B[0mself\u001B[0m\u001B[0;34m.\u001B[0m\u001B[0mchildren\u001B[0m\u001B[0;34m(\u001B[0m\u001B[0;34m)\u001B[0m\u001B[0;34m:\u001B[0m\u001B[0;34m\u001B[0m\u001B[0;34m\u001B[0m\u001B[0m\n\u001B[0;32m--> 387\u001B[0;31m             \u001B[0mmodule\u001B[0m\u001B[0;34m.\u001B[0m\u001B[0m_apply\u001B[0m\u001B[0;34m(\u001B[0m\u001B[0mfn\u001B[0m\u001B[0;34m)\u001B[0m\u001B[0;34m\u001B[0m\u001B[0;34m\u001B[0m\u001B[0m\n\u001B[0m\u001B[1;32m    388\u001B[0m \u001B[0;34m\u001B[0m\u001B[0m\n\u001B[1;32m    389\u001B[0m         \u001B[0;32mdef\u001B[0m \u001B[0mcompute_should_use_set_data\u001B[0m\u001B[0;34m(\u001B[0m\u001B[0mtensor\u001B[0m\u001B[0;34m,\u001B[0m \u001B[0mtensor_applied\u001B[0m\u001B[0;34m)\u001B[0m\u001B[0;34m:\u001B[0m\u001B[0;34m\u001B[0m\u001B[0;34m\u001B[0m\u001B[0m\n",
      "\u001B[0;32m~/miniconda3/envs/gpt2_paraphrase/lib/python3.7/site-packages/torch/nn/modules/module.py\u001B[0m in \u001B[0;36m_apply\u001B[0;34m(self, fn)\u001B[0m\n\u001B[1;32m    385\u001B[0m     \u001B[0;32mdef\u001B[0m \u001B[0m_apply\u001B[0m\u001B[0;34m(\u001B[0m\u001B[0mself\u001B[0m\u001B[0;34m,\u001B[0m \u001B[0mfn\u001B[0m\u001B[0;34m)\u001B[0m\u001B[0;34m:\u001B[0m\u001B[0;34m\u001B[0m\u001B[0;34m\u001B[0m\u001B[0m\n\u001B[1;32m    386\u001B[0m         \u001B[0;32mfor\u001B[0m \u001B[0mmodule\u001B[0m \u001B[0;32min\u001B[0m \u001B[0mself\u001B[0m\u001B[0;34m.\u001B[0m\u001B[0mchildren\u001B[0m\u001B[0;34m(\u001B[0m\u001B[0;34m)\u001B[0m\u001B[0;34m:\u001B[0m\u001B[0;34m\u001B[0m\u001B[0;34m\u001B[0m\u001B[0m\n\u001B[0;32m--> 387\u001B[0;31m             \u001B[0mmodule\u001B[0m\u001B[0;34m.\u001B[0m\u001B[0m_apply\u001B[0m\u001B[0;34m(\u001B[0m\u001B[0mfn\u001B[0m\u001B[0;34m)\u001B[0m\u001B[0;34m\u001B[0m\u001B[0;34m\u001B[0m\u001B[0m\n\u001B[0m\u001B[1;32m    388\u001B[0m \u001B[0;34m\u001B[0m\u001B[0m\n\u001B[1;32m    389\u001B[0m         \u001B[0;32mdef\u001B[0m \u001B[0mcompute_should_use_set_data\u001B[0m\u001B[0;34m(\u001B[0m\u001B[0mtensor\u001B[0m\u001B[0;34m,\u001B[0m \u001B[0mtensor_applied\u001B[0m\u001B[0;34m)\u001B[0m\u001B[0;34m:\u001B[0m\u001B[0;34m\u001B[0m\u001B[0;34m\u001B[0m\u001B[0m\n",
      "\u001B[0;32m~/miniconda3/envs/gpt2_paraphrase/lib/python3.7/site-packages/torch/nn/modules/module.py\u001B[0m in \u001B[0;36m_apply\u001B[0;34m(self, fn)\u001B[0m\n\u001B[1;32m    385\u001B[0m     \u001B[0;32mdef\u001B[0m \u001B[0m_apply\u001B[0m\u001B[0;34m(\u001B[0m\u001B[0mself\u001B[0m\u001B[0;34m,\u001B[0m \u001B[0mfn\u001B[0m\u001B[0;34m)\u001B[0m\u001B[0;34m:\u001B[0m\u001B[0;34m\u001B[0m\u001B[0;34m\u001B[0m\u001B[0m\n\u001B[1;32m    386\u001B[0m         \u001B[0;32mfor\u001B[0m \u001B[0mmodule\u001B[0m \u001B[0;32min\u001B[0m \u001B[0mself\u001B[0m\u001B[0;34m.\u001B[0m\u001B[0mchildren\u001B[0m\u001B[0;34m(\u001B[0m\u001B[0;34m)\u001B[0m\u001B[0;34m:\u001B[0m\u001B[0;34m\u001B[0m\u001B[0;34m\u001B[0m\u001B[0m\n\u001B[0;32m--> 387\u001B[0;31m             \u001B[0mmodule\u001B[0m\u001B[0;34m.\u001B[0m\u001B[0m_apply\u001B[0m\u001B[0;34m(\u001B[0m\u001B[0mfn\u001B[0m\u001B[0;34m)\u001B[0m\u001B[0;34m\u001B[0m\u001B[0;34m\u001B[0m\u001B[0m\n\u001B[0m\u001B[1;32m    388\u001B[0m \u001B[0;34m\u001B[0m\u001B[0m\n\u001B[1;32m    389\u001B[0m         \u001B[0;32mdef\u001B[0m \u001B[0mcompute_should_use_set_data\u001B[0m\u001B[0;34m(\u001B[0m\u001B[0mtensor\u001B[0m\u001B[0;34m,\u001B[0m \u001B[0mtensor_applied\u001B[0m\u001B[0;34m)\u001B[0m\u001B[0;34m:\u001B[0m\u001B[0;34m\u001B[0m\u001B[0;34m\u001B[0m\u001B[0m\n",
      "\u001B[0;32m~/miniconda3/envs/gpt2_paraphrase/lib/python3.7/site-packages/torch/nn/modules/module.py\u001B[0m in \u001B[0;36m_apply\u001B[0;34m(self, fn)\u001B[0m\n\u001B[1;32m    407\u001B[0m                 \u001B[0;31m# `with torch.no_grad():`\u001B[0m\u001B[0;34m\u001B[0m\u001B[0;34m\u001B[0m\u001B[0;34m\u001B[0m\u001B[0m\n\u001B[1;32m    408\u001B[0m                 \u001B[0;32mwith\u001B[0m \u001B[0mtorch\u001B[0m\u001B[0;34m.\u001B[0m\u001B[0mno_grad\u001B[0m\u001B[0;34m(\u001B[0m\u001B[0;34m)\u001B[0m\u001B[0;34m:\u001B[0m\u001B[0;34m\u001B[0m\u001B[0;34m\u001B[0m\u001B[0m\n\u001B[0;32m--> 409\u001B[0;31m                     \u001B[0mparam_applied\u001B[0m \u001B[0;34m=\u001B[0m \u001B[0mfn\u001B[0m\u001B[0;34m(\u001B[0m\u001B[0mparam\u001B[0m\u001B[0;34m)\u001B[0m\u001B[0;34m\u001B[0m\u001B[0;34m\u001B[0m\u001B[0m\n\u001B[0m\u001B[1;32m    410\u001B[0m                 \u001B[0mshould_use_set_data\u001B[0m \u001B[0;34m=\u001B[0m \u001B[0mcompute_should_use_set_data\u001B[0m\u001B[0;34m(\u001B[0m\u001B[0mparam\u001B[0m\u001B[0;34m,\u001B[0m \u001B[0mparam_applied\u001B[0m\u001B[0;34m)\u001B[0m\u001B[0;34m\u001B[0m\u001B[0;34m\u001B[0m\u001B[0m\n\u001B[1;32m    411\u001B[0m                 \u001B[0;32mif\u001B[0m \u001B[0mshould_use_set_data\u001B[0m\u001B[0;34m:\u001B[0m\u001B[0;34m\u001B[0m\u001B[0;34m\u001B[0m\u001B[0m\n",
      "\u001B[0;32m~/miniconda3/envs/gpt2_paraphrase/lib/python3.7/site-packages/torch/nn/modules/module.py\u001B[0m in \u001B[0;36mconvert\u001B[0;34m(t)\u001B[0m\n\u001B[1;32m    669\u001B[0m                 return t.to(device, dtype if t.is_floating_point() or t.is_complex() else None,\n\u001B[1;32m    670\u001B[0m                             non_blocking, memory_format=convert_to_format)\n\u001B[0;32m--> 671\u001B[0;31m             \u001B[0;32mreturn\u001B[0m \u001B[0mt\u001B[0m\u001B[0;34m.\u001B[0m\u001B[0mto\u001B[0m\u001B[0;34m(\u001B[0m\u001B[0mdevice\u001B[0m\u001B[0;34m,\u001B[0m \u001B[0mdtype\u001B[0m \u001B[0;32mif\u001B[0m \u001B[0mt\u001B[0m\u001B[0;34m.\u001B[0m\u001B[0mis_floating_point\u001B[0m\u001B[0;34m(\u001B[0m\u001B[0;34m)\u001B[0m \u001B[0;32mor\u001B[0m \u001B[0mt\u001B[0m\u001B[0;34m.\u001B[0m\u001B[0mis_complex\u001B[0m\u001B[0;34m(\u001B[0m\u001B[0;34m)\u001B[0m \u001B[0;32melse\u001B[0m \u001B[0;32mNone\u001B[0m\u001B[0;34m,\u001B[0m \u001B[0mnon_blocking\u001B[0m\u001B[0;34m)\u001B[0m\u001B[0;34m\u001B[0m\u001B[0;34m\u001B[0m\u001B[0m\n\u001B[0m\u001B[1;32m    672\u001B[0m \u001B[0;34m\u001B[0m\u001B[0m\n\u001B[1;32m    673\u001B[0m         \u001B[0;32mreturn\u001B[0m \u001B[0mself\u001B[0m\u001B[0;34m.\u001B[0m\u001B[0m_apply\u001B[0m\u001B[0;34m(\u001B[0m\u001B[0mconvert\u001B[0m\u001B[0;34m)\u001B[0m\u001B[0;34m\u001B[0m\u001B[0;34m\u001B[0m\u001B[0m\n",
      "\u001B[0;31mRuntimeError\u001B[0m: CUDA out of memory. Tried to allocate 20.00 MiB (GPU 0; 1.96 GiB total capacity; 685.54 MiB already allocated; 1024.00 KiB free; 732.00 MiB reserved in total by PyTorch)"
     ]
    }
   ]
  },
  {
   "cell_type": "markdown",
   "source": "## Chatting with  Rick",
   "metadata": {
    "id": "6eDkPEuvbD47"
   }
  },
  {
   "cell_type": "markdown",
   "source": "The model is ready, so it's time to chat with Rick. But don't forget that Rick can be rude, I warned you.\n\nA variety of methods can be used in responces generation. You can find more details about these methods by this [link](https://huggingface.co/blog/how-to-generate). \n\n![alt text](https://media.giphy.com/media/ftl8NiWz2C3tuXOn3w/giphy.gif)\n\nImage from [Giphy](https://giphy.com/)",
   "metadata": {
    "id": "rjVqotI05gOS"
   }
  },
  {
   "cell_type": "code",
   "source": "tokenizer = AutoTokenizer.from_pretrained('microsoft/DialoGPT-small')\nmodel = AutoModelWithLMHead.from_pretrained('output-small')\n\n# Let's chat for 5 lines\nfor step in range(5):\n    # encode the new user input, add the eos_token and return a tensor in Pytorch\n    new_user_input_ids = tokenizer.encode(input(\">> User:\") + tokenizer.eos_token, return_tensors='pt')\n    # print(new_user_input_ids)\n\n    # append the new user input tokens to the chat history\n    bot_input_ids = torch.cat([chat_history_ids, new_user_input_ids], dim=-1) if step > 0 else new_user_input_ids\n\n    # generated a response while limiting the total chat history to 1000 tokens, \n    chat_history_ids = model.generate(\n        bot_input_ids, max_length=200,\n        pad_token_id=tokenizer.eos_token_id,  \n        no_repeat_ngram_size=3,       \n        do_sample=True, \n        top_k=100, \n        top_p=0.7,\n        temperature = 0.8\n    )\n    \n    # pretty print last ouput tokens from bot\n    print(\"RickBot: {}\".format(tokenizer.decode(chat_history_ids[:, bot_input_ids.shape[-1]:][0], skip_special_tokens=True)))",
   "metadata": {
    "id": "nIeqMwZktv7N"
   },
   "execution_count": null,
   "outputs": []
  },
  {
   "cell_type": "markdown",
   "source": "**User**:How are you, Rick? <br>\n**RickBot**: I'm fine. <br>\n**User**:Where is Morty? <br>\n**RickBot**: He's in a hospital. <br>\n**User**:Why? <br>\n**RickBot**: Well, that depends on who breaks first -- me or the hospital. I mean, you know, the one that keeps giving me pills. <br>\n**User**:I don't understand <br>\n**RickBot**: Whoa! Whoa! <br>\n**User**:I see, you took your pills <br>\n**RickBot**: Hey, I-I'm not proud of this. <br>",
   "metadata": {
    "id": "7zq2wJFtss1e"
   }
  },
  {
   "cell_type": "markdown",
   "source": "I will give an example of a few more dialogues to show how Ricky is our Rick now.",
   "metadata": {
    "id": "fvxnAOkTBTIJ"
   }
  },
  {
   "cell_type": "markdown",
   "source": "![alt text](https://media.giphy.com/media/eNpXWzGIMRjIo4lXT8/giphy.gif)\n\nImage from [Giphy](https://giphy.com/)\n\n**User**:Who are you? <br>\n**RickBot**: A musician, I'm not a musician, but I'm pretty close to you. <br>\n**User**:What kind of musician are you? <br>\n**RickBot**: Who cares? I'm a musician. <br>\n**User**:Ok, play a song for me <br>\n**RickBot**: Shut up and listen to me, Morty. Listen to me. Listen! I'm the leader of a bunch of different death worlds, and I'm just trying to assemble a band. I'm gonna make this one-piece, and you're gonna be part of it. <br>\n**User**:ok <br>\n**RickBot**: Whoa, whoa, hey, who's this? <br>\n**User**:This is Morty <br>\n**RickBot**: Geez!!! <br>",
   "metadata": {
    "id": "K1gX23iKkd0g"
   }
  },
  {
   "cell_type": "markdown",
   "source": "![alt text](https://i.kym-cdn.com/news/posts/desktop/000/000/247/Screenshot_21.jpg)\n\nImage from [news.knowyourmeme.com](https://news.knowyourmeme.com/news/elon-musks-rick-and-morty-cameo-is-a-meme-reference)\n\n**User**:What do you think about Elon Musk? <br>\n**RickBot**: I think about him a lot. <br>\n**User**:But what exactly do you think? <br>\n**RickBot**: He's not a bad guy. He's just... not a very charismatic one. <br>\n**User**:I think he is charismatic <br>\n**RickBot**: He is. <br>\n**User**:What else you can say about him? <br>\n**RickBot**: You don't have to say anything. He is the leader of your class. <br>\n**User**:ok, thank you <br>\n**RickBot**: !!!",
   "metadata": {
    "id": "aDiz2J0LBqaq"
   }
  },
  {
   "cell_type": "markdown",
   "source": "![alt text](https://media.giphy.com/media/YSTmV6MWEkgW0HblZQ/giphy.gif)\n\nImage from [Giphy](https://giphy.com/)\n\n**User**:hey, go get me a burger <br>\nRickBot: Whoa, whoa, hold on a second, let's not get crazy. This is gonna be good. <br>\n**User**:I'm hungry! c'mon, buy me a burger or better two <br>\n**RickBot**: Holy crap. <br>\n**User**:no crappy burger, a good one! <br>\n**RickBot**: What the hell? <br>\n**User**:don't be so bad, feed me <br>\n**RickBot**: I'll be back as fast as I can, Morty. <br>\n**User**:good boy, and don't forget ketchup and fries <br>\n**RickBot**: !!!!!! <br>\n**User**:what a hell? can you reply with words? <br>\n**RickBot**: Yes!! I will!! We will go out on a date. <br>",
   "metadata": {
    "id": "ezq6Qtl_3NtD"
   }
  },
  {
   "cell_type": "markdown",
   "source": "## Conclusion",
   "metadata": {
    "id": "Woi683Eyvttc"
   }
  },
  {
   "cell_type": "markdown",
   "source": "![alt text](https://media.giphy.com/media/YQBWwGLJtFDQIATck5/giphy.gif)\n\nImage from [Giphy](https://giphy.com/)\n\nCongratulations! Our virtual Rick is alive (almost)! With the help of fine-tuning our model on a small dataset, we were able to create a virtual character with whom we can conduct interesting dialogs. \n\nUsing the proposed approach you can create many interesting virtual characters based on an arbitrary dialogs dataset (just a csv file with replicas, one replica per line).",
   "metadata": {
    "id": "aZmkXDkv4BAl"
   }
  },
  {
   "cell_type": "code",
   "source": "",
   "metadata": {
    "id": "1jAMH0XPuE-f"
   },
   "execution_count": null,
   "outputs": []
  },
  {
   "cell_type": "code",
   "source": "",
   "metadata": {
    "id": "gjd1pCZxukWh"
   },
   "execution_count": null,
   "outputs": []
  },
  {
   "cell_type": "code",
   "source": "",
   "metadata": {
    "id": "ofg7iJNFyjBs"
   },
   "execution_count": null,
   "outputs": []
  }
 ]
}